{
 "cells": [
  {
   "cell_type": "markdown",
   "id": "775c5ec5",
   "metadata": {},
   "source": [
    "### Assignment 4"
   ]
  },
  {
   "cell_type": "markdown",
   "id": "c9d7126f",
   "metadata": {},
   "source": [
    "#### Problem Statement1.1 \n",
    "Write a Python Program(with class concepts) to find the area of the triangle using the below\n",
    "formula. area = (s*(s-a)*(s-b)*(s-c)) ** 0.5\n",
    "Function to take the length of the sides of triangle from user should be defined in the parent\n",
    "0class and function to calculate the area should be defined in subclass."
   ]
  },
  {
   "cell_type": "code",
   "execution_count": 1,
   "id": "015307bc",
   "metadata": {},
   "outputs": [],
   "source": [
    "class abc:                                                 # creating a parent class named 'abc'\n",
    "    def __init__(self,side1,side2,side3):\n",
    "        self.side1=side1\n",
    "        self.side2=side2\n",
    "        self.side3=side3\n",
    "   \n",
    "            \n",
    "class sub(abc):                                            #creating a subclass named  'sub'\n",
    "    def _init_(self,a,b,c):\n",
    "        super(sub,self).__init__(a,b,c)\n",
    "    def area(self):\n",
    "        s=(self.side1+self.side2+self.side3)/2\n",
    "        ar=(s*(s-self.side1)*(s-self.side2)*(s-self.side3))*0.5\n",
    "        print(\"Area of triangle with given dimensions is :\",ar)"
   ]
  },
  {
   "cell_type": "code",
   "execution_count": 2,
   "id": "8b9cc970",
   "metadata": {},
   "outputs": [
    {
     "name": "stdout",
     "output_type": "stream",
     "text": [
      "Enter First side:3\n",
      "Enter Second side:2\n",
      "Enter Third side:3\n",
      "Area of triangle with given dimensions is : 4.0\n"
     ]
    }
   ],
   "source": [
    "a=int(input('Enter First side:'))\n",
    "b=int(input('Enter Second side:'))\n",
    "c=int(input('Enter Third side:'))\n",
    "obj1=sub(a,b,c)\n",
    "obj1.area()"
   ]
  },
  {
   "cell_type": "markdown",
   "id": "9e6a8b83",
   "metadata": {},
   "source": [
    "#### Problem Statement 1.2\n",
    "Write a function filter_long_words() that takes a list of words and an integer n and returns\n",
    "the list of words that are longer than n."
   ]
  },
  {
   "cell_type": "code",
   "execution_count": 4,
   "id": "763768d5",
   "metadata": {},
   "outputs": [
    {
     "name": "stdout",
     "output_type": "stream",
     "text": [
      "Enter the lower limit:7\n"
     ]
    },
    {
     "data": {
      "text/plain": [
       "['Barthwal']"
      ]
     },
     "execution_count": 4,
     "metadata": {},
     "output_type": "execute_result"
    }
   ],
   "source": [
    "lst=['mohit','Barthwal','Roorkee','ml','army']\n",
    "lst2=[]\n",
    "def filter_long_words():                                              #declaring a function\n",
    "    n=int(input('Enter the lower limit:'))                            #defining minimum word limit\n",
    "    for i in range(0,4):\n",
    "           if(len(lst[i])>n):                                         #applying condition\n",
    "                lst2.append(lst[i])                                  #updating the empty list with data satisying condition\n",
    "    \n",
    "                \n",
    "    if(len(lst2)==0):                                             \n",
    "        print('Sorry, no such word with length > given limit is present')\n",
    "    return lst2\n",
    "filter_long_words()                                                  # making call to the function"
   ]
  },
  {
   "cell_type": "markdown",
   "id": "0f981ee1",
   "metadata": {},
   "source": [
    "#### Problem Statement 2.1\n",
    "Write a Python program using function concept that maps list of words into a list of integers representing the lengths of the corresponding words."
   ]
  },
  {
   "cell_type": "code",
   "execution_count": 5,
   "id": "a277e056",
   "metadata": {},
   "outputs": [],
   "source": [
    "lst_1=[]  # creating an empty list\n",
    "def mohit():    #declaring a function\n",
    "    for i in range(len(lst_2)):\n",
    "        lst_1.append(len(lst_2[i]))\n",
    "    print('Length of corresponding words in the entered list:',lst_1)"
   ]
  },
  {
   "cell_type": "code",
   "execution_count": 6,
   "id": "c09e665e",
   "metadata": {},
   "outputs": [
    {
     "name": "stdout",
     "output_type": "stream",
     "text": [
      "Enter number of elements to be included in the list3\n",
      "Enter Elements:Mohit\n",
      "Enter Elements:IIT\n",
      "Enter Elements:Roorkee\n",
      "Entered list is: ['Mohit', 'IIT', 'Roorkee']\n",
      "Length of corresponding words in the entered list: [5, 3, 7]\n"
     ]
    }
   ],
   "source": [
    "n=int(input('Enter number of elements to be included in the list'))\n",
    "lst_2=[]\n",
    "for i in range(n):\n",
    "    b=input('Enter Elements:')\n",
    "    lst_2.append(b)\n",
    "print('Entered list is:',lst_2)\n",
    "\n",
    "# Making call to the function\n",
    "mohit()"
   ]
  },
  {
   "cell_type": "markdown",
   "id": "15416c9b",
   "metadata": {},
   "source": [
    "#### Problem Statement 2.2\n",
    "Write a Python function which takes a character (i.e. a string of length 1) and returns True if it is a vowel, False otherwise."
   ]
  },
  {
   "cell_type": "code",
   "execution_count": 7,
   "id": "f14e56e1",
   "metadata": {},
   "outputs": [],
   "source": [
    "lst1=['a','e','i','o','u']\n",
    "lst2=[x.upper() for x in lst1]\n",
    "\n",
    "def mohit(c):\n",
    "    count=0\n",
    "    for i in range(5):\n",
    "        if((c==lst1[i])or(c==lst2[i])):\n",
    "                count=count+1\n",
    "    if(count>0):\n",
    "        return ('True: Its a vowel')\n",
    "    else:\n",
    "        return ('False:Its not a vowel')\n",
    "                "
   ]
  },
  {
   "cell_type": "code",
   "execution_count": 8,
   "id": "0482ce38",
   "metadata": {},
   "outputs": [
    {
     "name": "stdout",
     "output_type": "stream",
     "text": [
      "Enter any character:d\n"
     ]
    },
    {
     "data": {
      "text/plain": [
       "'False:Its not a vowel'"
      ]
     },
     "execution_count": 8,
     "metadata": {},
     "output_type": "execute_result"
    }
   ],
   "source": [
    "c=input('Enter any character:')\n",
    "mohit(c)"
   ]
  }
 ],
 "metadata": {
  "kernelspec": {
   "display_name": "Python 3",
   "language": "python",
   "name": "python3"
  },
  "language_info": {
   "codemirror_mode": {
    "name": "ipython",
    "version": 3
   },
   "file_extension": ".py",
   "mimetype": "text/x-python",
   "name": "python",
   "nbconvert_exporter": "python",
   "pygments_lexer": "ipython3",
   "version": "3.8.8"
  }
 },
 "nbformat": 4,
 "nbformat_minor": 5
}
