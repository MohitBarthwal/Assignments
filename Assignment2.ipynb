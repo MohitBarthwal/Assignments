{
 "cells": [
  {
   "cell_type": "markdown",
   "id": "192e178c",
   "metadata": {},
   "source": [
    "### Python Assignment2\n"
   ]
  },
  {
   "cell_type": "markdown",
   "id": "d37ff7e9",
   "metadata": {},
   "source": [
    "#### Problem Statement1\n",
    "1.Create the below pattern using nested for loop in Python."
   ]
  },
  {
   "cell_type": "code",
   "execution_count": 1,
   "id": "900280d8",
   "metadata": {},
   "outputs": [
    {
     "name": "stdout",
     "output_type": "stream",
     "text": [
      "*  \n",
      "*  *  \n",
      "*  *  *  \n",
      "*  *  *  *  \n",
      "*  *  *  *  *  \n",
      "*  *  *  *  \n",
      "*  *  *  \n",
      "*  *  \n",
      "*  \n"
     ]
    }
   ],
   "source": [
    "# LOGIC: Breaking pattern into two halfs\n",
    "# As the pattern reverses after 5th row so iterting till 5th row \n",
    "\n",
    "for i in range(5): # loop for upper half\n",
    "    for j in range(0, i + 1):\n",
    "            print(\"*\", end = \"  \")\n",
    "    print()\n",
    "for i in range(1, 5): # Loop for lower half \n",
    "    for j in range(i, 5):\n",
    "            print(\"*\", end = \"  \")\n",
    "    print()\n",
    "    "
   ]
  },
  {
   "cell_type": "markdown",
   "id": "3d8d5103",
   "metadata": {},
   "source": [
    "#### Problem Statement2\n",
    "2. Write a Python program to reverse a word after accepting the input from the user."
   ]
  },
  {
   "cell_type": "code",
   "execution_count": 2,
   "id": "aeca414f",
   "metadata": {},
   "outputs": [
    {
     "name": "stdout",
     "output_type": "stream",
     "text": [
      "\n",
      "ENTER ANY WORD:Mohit\n",
      "Reversing the entered word: tihoM\n"
     ]
    }
   ],
   "source": [
    "# lets input any word\n",
    "a=input('\\nENTER ANY WORD:')\n",
    "#Just confirming the datatype of the entered data\n",
    "type(a)\n",
    "b=a[::-1]\n",
    "print('Reversing the entered word:',b)\n"
   ]
  }
 ],
 "metadata": {
  "kernelspec": {
   "display_name": "Python 3",
   "language": "python",
   "name": "python3"
  },
  "language_info": {
   "codemirror_mode": {
    "name": "ipython",
    "version": 3
   },
   "file_extension": ".py",
   "mimetype": "text/x-python",
   "name": "python",
   "nbconvert_exporter": "python",
   "pygments_lexer": "ipython3",
   "version": "3.8.8"
  }
 },
 "nbformat": 4,
 "nbformat_minor": 5
}
