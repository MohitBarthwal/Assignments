{
 "cells": [
  {
   "cell_type": "markdown",
   "id": "75e99307",
   "metadata": {},
   "source": [
    "### Assignment-1\n",
    "#### Problem Statements\n",
    "1. Write a program which will find all such numbers which are divisible by 7 but are not a multiple of 5, between 2000 and 3200 (both included). The numbers obtained should be printed\n",
    "in a comma-separated sequence on a single line.\n",
    "\n",
    "2. Write a Python program to accept the user's first and last name and then getting them printed in the the reverse order with a space between first name and last name\n",
    "3. Write a Python program to find the volume of a sphere with diameter 12 cm.Formula: V=4/3 * π * r"
   ]
  },
  {
   "cell_type": "markdown",
   "id": "1ff76a02",
   "metadata": {},
   "source": [
    "#### Problem statement1 (Solution)"
   ]
  },
  {
   "cell_type": "code",
   "execution_count": 1,
   "id": "360745d2",
   "metadata": {},
   "outputs": [
    {
     "data": {
      "text/plain": [
       "[2002,\n",
       " 2009,\n",
       " 2016,\n",
       " 2023,\n",
       " 2037,\n",
       " 2044,\n",
       " 2051,\n",
       " 2058,\n",
       " 2072,\n",
       " 2079,\n",
       " 2086,\n",
       " 2093,\n",
       " 2107,\n",
       " 2114,\n",
       " 2121,\n",
       " 2128,\n",
       " 2142,\n",
       " 2149,\n",
       " 2156,\n",
       " 2163]"
      ]
     },
     "execution_count": 1,
     "metadata": {},
     "output_type": "execute_result"
    }
   ],
   "source": [
    "# creating an empty list for storing data based on the given condition\n",
    "lst=[]\n",
    "for i in range(2000,3200):  # iterating in between the given range of numbers\n",
    "    if (i%7==0)&(i%5!=0):   # applying the given condition\n",
    "        lst.append(i)       # appending the list with numbers satisfying the above condition\n",
    "lst[:20]                    # displaying only top 20 numbers"
   ]
  },
  {
   "cell_type": "markdown",
   "id": "cebddade",
   "metadata": {},
   "source": [
    "#### Problem Statement2(Solution)"
   ]
  },
  {
   "cell_type": "code",
   "execution_count": 2,
   "id": "ccfbf4bc",
   "metadata": {},
   "outputs": [
    {
     "name": "stdout",
     "output_type": "stream",
     "text": [
      "Enter Your Name\n",
      "\n",
      " First Name:Mohit\n",
      "\n",
      " Last  Name:Barthwal\n",
      "\n",
      " Name in reverse order: Barthwal   Mohit\n"
     ]
    }
   ],
   "source": [
    "print('Enter Your Name')\n",
    "a=input('\\n First Name:')\n",
    "b=input('\\n Last  Name:')\n",
    "print('\\n Name in reverse order:',b,' ',a)"
   ]
  },
  {
   "cell_type": "markdown",
   "id": "62803b13",
   "metadata": {},
   "source": [
    "#### Problem Statement3 (Solution)"
   ]
  },
  {
   "cell_type": "code",
   "execution_count": 3,
   "id": "181ec6cb",
   "metadata": {},
   "outputs": [
    {
     "name": "stdout",
     "output_type": "stream",
     "text": [
      "Volume of Sphere= 904.32\n"
     ]
    }
   ],
   "source": [
    "r=6\n",
    "pi=3.14\n",
    "vol=round(4/3*(pi*r*r*r),2)\n",
    "print(\"Volume of Sphere=\",vol)"
   ]
  }
 ],
 "metadata": {
  "kernelspec": {
   "display_name": "Python 3",
   "language": "python",
   "name": "python3"
  },
  "language_info": {
   "codemirror_mode": {
    "name": "ipython",
    "version": 3
   },
   "file_extension": ".py",
   "mimetype": "text/x-python",
   "name": "python",
   "nbconvert_exporter": "python",
   "pygments_lexer": "ipython3",
   "version": "3.8.8"
  }
 },
 "nbformat": 4,
 "nbformat_minor": 5
}
